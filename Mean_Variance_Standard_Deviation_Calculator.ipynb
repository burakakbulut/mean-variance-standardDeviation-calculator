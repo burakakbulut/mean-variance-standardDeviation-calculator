{
  "nbformat": 4,
  "nbformat_minor": 0,
  "metadata": {
    "colab": {
      "name": "Mean-Variance-Standard Deviation Calculator.ipynb",
      "provenance": []
    },
    "kernelspec": {
      "name": "python3",
      "display_name": "Python 3"
    },
    "language_info": {
      "name": "python"
    }
  },
  "cells": [
    {
      "cell_type": "code",
      "metadata": {
        "id": "Z-l9wm8E8GN5"
      },
      "source": [
        "import numpy as np"
      ],
      "execution_count": null,
      "outputs": []
    },
    {
      "cell_type": "code",
      "metadata": {
        "id": "i3XeZfkBjQRr",
        "colab": {
          "base_uri": "https://localhost:8080/"
        },
        "outputId": "ac783ff4-2138-4562-8046-cdf70d18c010"
      },
      "source": [
        "def calculate(list):\n",
        "  \n",
        "  if len(list) != 9:\n",
        "    raise Exception(\"List must contain nine numbers.\")\n",
        "  \n",
        "  matrix = np.reshape(list,(3,3))\n",
        "  \n",
        "  operations = {\n",
        "      \"mean\":[\n",
        "              np.mean(matrix, axis=0).tolist(),\n",
        "              np.mean(matrix, axis=1).tolist(),\n",
        "              np.mean(matrix).tolist()\n",
        "              ],\n",
        "      \"variance\":[\n",
        "              np.var(matrix, axis=0).tolist(),\n",
        "              np.var(matrix, axis=1).tolist(),\n",
        "              np.var(matrix).tolist()\n",
        "              ],\n",
        "      \"standart deviation\":[\n",
        "              np.std(matrix, axis=0).tolist(),\n",
        "              np.std(matrix, axis=1).tolist(),\n",
        "              np.std(matrix).tolist()\n",
        "              ],\n",
        "      \"max\":[\n",
        "              np.max(matrix, axis=0).tolist(),\n",
        "              np.max(matrix, axis=1).tolist(),\n",
        "              np.max(matrix).tolist()\n",
        "              ],\n",
        "      \"min\":[\n",
        "              np.min(matrix, axis=0).tolist(),\n",
        "              np.min(matrix, axis=1).tolist(),\n",
        "              np.min(matrix).tolist()\n",
        "              ],\n",
        "      \"sum\":[\n",
        "              np.sum(matrix, axis=0).tolist(),\n",
        "              np.sum(matrix, axis=1).tolist(),\n",
        "              np.sum(matrix).tolist()\n",
        "              ],\n",
        "  }\n",
        "  return operations\n",
        "\n",
        "calculate([0,1,2,3,4,5,6,7,8])"
      ],
      "execution_count": null,
      "outputs": [
        {
          "output_type": "execute_result",
          "data": {
            "text/plain": [
              "{'max': [[6, 7, 8], [2, 5, 8], 8],\n",
              " 'mean': [[3.0, 4.0, 5.0], [1.0, 4.0, 7.0], 4.0],\n",
              " 'min': [[0, 1, 2], [0, 3, 6], 0],\n",
              " 'standart deviation': [[2.449489742783178,\n",
              "   2.449489742783178,\n",
              "   2.449489742783178],\n",
              "  [0.816496580927726, 0.816496580927726, 0.816496580927726],\n",
              "  2.581988897471611],\n",
              " 'sum': [[9, 12, 15], [3, 12, 21], 36],\n",
              " 'variance': [[6.0, 6.0, 6.0],\n",
              "  [0.6666666666666666, 0.6666666666666666, 0.6666666666666666],\n",
              "  6.666666666666667]}"
            ]
          },
          "metadata": {},
          "execution_count": 36
        }
      ]
    }
  ]
}